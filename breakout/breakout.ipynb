{
 "cells": [
  {
   "cell_type": "markdown",
   "metadata": {},
   "source": [
    "# Breakout\n",
    "## Purpose\n",
    "The purpose of this notebook is to make an RL model to play atari breakout\n",
    "\n",
    "## Step 1: Import Dependencies"
   ]
  },
  {
   "cell_type": "code",
   "execution_count": 6,
   "metadata": {},
   "outputs": [
    {
     "name": "stdout",
     "output_type": "stream",
     "text": [
      "Collecting atari_py\n",
      "  Downloading atari-py-0.2.9.tar.gz (540 kB)\n",
      "     ---------------------------------------- 0.0/540.6 kB ? eta -:--:--\n",
      "     -- ------------------------------------ 30.7/540.6 kB 1.3 MB/s eta 0:00:01\n",
      "     ----- ------------------------------- 81.9/540.6 kB 919.0 kB/s eta 0:00:01\n",
      "     ---------- --------------------------- 143.4/540.6 kB 1.1 MB/s eta 0:00:01\n",
      "     -------------- ----------------------- 204.8/540.6 kB 1.2 MB/s eta 0:00:01\n",
      "     ------------------- ------------------ 276.5/540.6 kB 1.3 MB/s eta 0:00:01\n",
      "     -------------------- ----------------- 286.7/540.6 kB 1.4 MB/s eta 0:00:01\n",
      "     ------------------------- ------------ 368.6/540.6 kB 1.3 MB/s eta 0:00:01\n",
      "     --------------------------------- ---- 471.0/540.6 kB 1.4 MB/s eta 0:00:01\n",
      "     ------------------------------------ - 522.2/540.6 kB 1.4 MB/s eta 0:00:01\n",
      "     -------------------------------------- 540.6/540.6 kB 1.4 MB/s eta 0:00:00\n",
      "  Preparing metadata (setup.py): started\n",
      "  Preparing metadata (setup.py): finished with status 'done'\n",
      "Requirement already satisfied: numpy in c:\\users\\doggi\\desktop\\pp\\reinforcementlearning\\.venv\\lib\\site-packages (from atari_py) (1.24.3)\n",
      "Requirement already satisfied: six in c:\\users\\doggi\\desktop\\pp\\reinforcementlearning\\.venv\\lib\\site-packages (from atari_py) (1.16.0)\n",
      "Building wheels for collected packages: atari_py\n",
      "  Building wheel for atari_py (setup.py): started\n",
      "  Building wheel for atari_py (setup.py): finished with status 'done'\n",
      "  Created wheel for atari_py: filename=atari_py-0.2.9-cp310-cp310-win_amd64.whl size=892476 sha256=84ec03a794123b258f1698bf54713b6456813053ee48f15207b8013630a41b8a\n",
      "  Stored in directory: c:\\users\\doggi\\appdata\\local\\pip\\cache\\wheels\\75\\6f\\04\\1f3bf5255580101e16ff487564354dddcdd23ec3b43b775b7a\n",
      "Successfully built atari_py\n",
      "Installing collected packages: atari_py\n",
      "Successfully installed atari_py-0.2.9\n",
      "Note: you may need to restart the kernel to use updated packages.\n"
     ]
    }
   ],
   "source": [
    "%pip install atari_py"
   ]
  },
  {
   "cell_type": "code",
   "execution_count": 1,
   "metadata": {},
   "outputs": [],
   "source": [
    "import gymnasium as gym\n",
    "from stable_baselines3 import A2C\n",
    "from stable_baselines3.common.vec_env import VecFrameStack\n",
    "from stable_baselines3.common.evaluation import evaluate_policy\n",
    "from stable_baselines3.common.env_util import make_atari_env\n",
    "import os"
   ]
  },
  {
   "cell_type": "markdown",
   "metadata": {},
   "source": [
    "## Step 2: Test Environment\n",
    "\n",
    "must download rar file from this link [atari_rar]('http://www.atarimania.com/roms/Roms.rar')"
   ]
  },
  {
   "cell_type": "code",
   "execution_count": 4,
   "metadata": {},
   "outputs": [
    {
     "name": "stderr",
     "output_type": "stream",
     "text": [
      "c:\\Users\\doggi\\Desktop\\PP\\reinforcementLearning\\.venv\\Scripts\\python.exe: Error while finding module specification for 'atari_py.import_roms' (ModuleNotFoundError: No module named 'atari_py')\n"
     ]
    }
   ],
   "source": [
    "#Installing our env\n",
    "!python -m atari_py.import_roms ./ROMS"
   ]
  }
 ],
 "metadata": {
  "kernelspec": {
   "display_name": ".venv",
   "language": "python",
   "name": "python3"
  },
  "language_info": {
   "codemirror_mode": {
    "name": "ipython",
    "version": 3
   },
   "file_extension": ".py",
   "mimetype": "text/x-python",
   "name": "python",
   "nbconvert_exporter": "python",
   "pygments_lexer": "ipython3",
   "version": "3.10.5"
  },
  "orig_nbformat": 4
 },
 "nbformat": 4,
 "nbformat_minor": 2
}
